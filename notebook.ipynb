{
 "cells": [
  {
   "cell_type": "code",
   "execution_count": 24,
   "metadata": {},
   "outputs": [],
   "source": [
    "import pandas as pd\n",
    "import requests\n",
    "import numpy as np\n",
    "import seaborn as sns\n",
    "import matplotlib.pyplot as plt"
   ]
  },
  {
   "cell_type": "code",
   "execution_count": 19,
   "metadata": {},
   "outputs": [
    {
     "name": "stdout",
     "output_type": "stream",
     "text": [
      "Total number of crimes: 400146\n"
     ]
    }
   ],
   "source": [
    "# res = requests.get('https://data.lacity.org/resource/2nrs-mtv8.csv?$query=SELECT%0A%20%20%60dr_no%60%2C%0A%20%20%60date_rptd%60%2C%0A%20%20%60date_occ%60%2C%0A%20%20%60time_occ%60%2C%0A%20%20%60area%60%2C%0A%20%20%60area_name%60%2C%0A%20%20%60rpt_dist_no%60%2C%0A%20%20%60part_1_2%60%2C%0A%20%20%60crm_cd%60%2C%0A%20%20%60crm_cd_desc%60%2C%0A%20%20%60mocodes%60%2C%0A%20%20%60vict_age%60%2C%0A%20%20%60vict_sex%60%2C%0A%20%20%60vict_descent%60%2C%0A%20%20%60premis_cd%60%2C%0A%20%20%60premis_desc%60%2C%0A%20%20%60weapon_used_cd%60%2C%0A%20%20%60weapon_desc%60%2C%0A%20%20%60status%60%2C%0A%20%20%60status_desc%60%2C%0A%20%20%60crm_cd_1%60%2C%0A%20%20%60crm_cd_2%60%2C%0A%20%20%60crm_cd_3%60%2C%0A%20%20%60crm_cd_4%60%2C%0A%20%20%60location%60%2C%0A%20%20%60cross_street%60%2C%0A%20%20%60lat%60%2C%0A%20%20%60lon%60')\n",
    "# crimes = pd.read_csv(res.url)\n",
    "\n",
    "\n",
    "crimes = pd.read_csv('data/crimes.csv')\n",
    "\n",
    "\n",
    "print(f\"Total number of crimes: {len(crimes)}\")"
   ]
  },
  {
   "cell_type": "code",
   "execution_count": 40,
   "metadata": {},
   "outputs": [
    {
     "data": {
      "text/html": [
       "<div>\n",
       "<style scoped>\n",
       "    .dataframe tbody tr th:only-of-type {\n",
       "        vertical-align: middle;\n",
       "    }\n",
       "\n",
       "    .dataframe tbody tr th {\n",
       "        vertical-align: top;\n",
       "    }\n",
       "\n",
       "    .dataframe thead th {\n",
       "        text-align: right;\n",
       "    }\n",
       "</style>\n",
       "<table border=\"1\" class=\"dataframe\">\n",
       "  <thead>\n",
       "    <tr style=\"text-align: right;\">\n",
       "      <th></th>\n",
       "      <th>DR_NO</th>\n",
       "      <th>Date Rptd</th>\n",
       "      <th>DATE OCC</th>\n",
       "      <th>TIME OCC</th>\n",
       "      <th>AREA</th>\n",
       "      <th>AREA NAME</th>\n",
       "      <th>Rpt Dist No</th>\n",
       "      <th>Crm Cd</th>\n",
       "      <th>Crm Cd Desc</th>\n",
       "      <th>Vict Age</th>\n",
       "      <th>...</th>\n",
       "      <th>Status Desc</th>\n",
       "      <th>Crm Cd 1</th>\n",
       "      <th>Crm Cd 2</th>\n",
       "      <th>Crm Cd 3</th>\n",
       "      <th>Crm Cd 4</th>\n",
       "      <th>LOCATION</th>\n",
       "      <th>Cross Street</th>\n",
       "      <th>LAT</th>\n",
       "      <th>LON</th>\n",
       "      <th>year</th>\n",
       "    </tr>\n",
       "  </thead>\n",
       "  <tbody>\n",
       "    <tr>\n",
       "      <th>0</th>\n",
       "      <td>201223780</td>\n",
       "      <td>2020-11-02</td>\n",
       "      <td>11/02/2020 12:00:00 AM</td>\n",
       "      <td>1120</td>\n",
       "      <td>12</td>\n",
       "      <td>77th Street</td>\n",
       "      <td>1256</td>\n",
       "      <td>210</td>\n",
       "      <td>ROBBERY</td>\n",
       "      <td>65</td>\n",
       "      <td>...</td>\n",
       "      <td>Invest Cont</td>\n",
       "      <td>210.0</td>\n",
       "      <td>NaN</td>\n",
       "      <td>NaN</td>\n",
       "      <td>NaN</td>\n",
       "      <td>73RD                         ST</td>\n",
       "      <td>FIGUEROA                     ST</td>\n",
       "      <td>33.9737</td>\n",
       "      <td>-118.2827</td>\n",
       "      <td>2020</td>\n",
       "    </tr>\n",
       "    <tr>\n",
       "      <th>1</th>\n",
       "      <td>201911283</td>\n",
       "      <td>2020-06-23</td>\n",
       "      <td>06/23/2020 12:00:00 AM</td>\n",
       "      <td>315</td>\n",
       "      <td>19</td>\n",
       "      <td>Mission</td>\n",
       "      <td>1958</td>\n",
       "      <td>740</td>\n",
       "      <td>VANDALISM - FELONY ($400 &amp; OVER, ALL CHURCH VA...</td>\n",
       "      <td>51</td>\n",
       "      <td>...</td>\n",
       "      <td>Invest Cont</td>\n",
       "      <td>740.0</td>\n",
       "      <td>998.0</td>\n",
       "      <td>NaN</td>\n",
       "      <td>NaN</td>\n",
       "      <td>9700    WOODMAN                      AV</td>\n",
       "      <td>NaN</td>\n",
       "      <td>34.2467</td>\n",
       "      <td>-118.4479</td>\n",
       "      <td>2020</td>\n",
       "    </tr>\n",
       "    <tr>\n",
       "      <th>2</th>\n",
       "      <td>200806654</td>\n",
       "      <td>2020-02-28</td>\n",
       "      <td>02/28/2020 12:00:00 AM</td>\n",
       "      <td>1545</td>\n",
       "      <td>8</td>\n",
       "      <td>West LA</td>\n",
       "      <td>885</td>\n",
       "      <td>420</td>\n",
       "      <td>THEFT FROM MOTOR VEHICLE - PETTY ($950 &amp; UNDER)</td>\n",
       "      <td>38</td>\n",
       "      <td>...</td>\n",
       "      <td>Invest Cont</td>\n",
       "      <td>420.0</td>\n",
       "      <td>NaN</td>\n",
       "      <td>NaN</td>\n",
       "      <td>NaN</td>\n",
       "      <td>10400 W  PICO                         BL</td>\n",
       "      <td>NaN</td>\n",
       "      <td>34.0463</td>\n",
       "      <td>-118.4171</td>\n",
       "      <td>2020</td>\n",
       "    </tr>\n",
       "    <tr>\n",
       "      <th>3</th>\n",
       "      <td>220912167</td>\n",
       "      <td>2022-08-03</td>\n",
       "      <td>07/26/2022 12:00:00 AM</td>\n",
       "      <td>1730</td>\n",
       "      <td>9</td>\n",
       "      <td>Van Nuys</td>\n",
       "      <td>955</td>\n",
       "      <td>901</td>\n",
       "      <td>VIOLATION OF RESTRAINING ORDER</td>\n",
       "      <td>64</td>\n",
       "      <td>...</td>\n",
       "      <td>Adult Other</td>\n",
       "      <td>901.0</td>\n",
       "      <td>NaN</td>\n",
       "      <td>NaN</td>\n",
       "      <td>NaN</td>\n",
       "      <td>14200    MAGNOLIA                     BL</td>\n",
       "      <td>NaN</td>\n",
       "      <td>34.1668</td>\n",
       "      <td>-118.4445</td>\n",
       "      <td>2022</td>\n",
       "    </tr>\n",
       "    <tr>\n",
       "      <th>4</th>\n",
       "      <td>200817110</td>\n",
       "      <td>2020-12-02</td>\n",
       "      <td>11/27/2020 12:00:00 AM</td>\n",
       "      <td>1500</td>\n",
       "      <td>8</td>\n",
       "      <td>West LA</td>\n",
       "      <td>802</td>\n",
       "      <td>662</td>\n",
       "      <td>BUNCO, GRAND THEFT</td>\n",
       "      <td>73</td>\n",
       "      <td>...</td>\n",
       "      <td>Invest Cont</td>\n",
       "      <td>662.0</td>\n",
       "      <td>NaN</td>\n",
       "      <td>NaN</td>\n",
       "      <td>NaN</td>\n",
       "      <td>15000 W  SUNSET                       BL</td>\n",
       "      <td>NaN</td>\n",
       "      <td>34.0889</td>\n",
       "      <td>-118.5325</td>\n",
       "      <td>2020</td>\n",
       "    </tr>\n",
       "  </tbody>\n",
       "</table>\n",
       "<p>5 rows × 26 columns</p>\n",
       "</div>"
      ],
      "text/plain": [
       "       DR_NO  Date Rptd                DATE OCC  TIME OCC  AREA    AREA NAME   \n",
       "0  201223780 2020-11-02  11/02/2020 12:00:00 AM      1120    12  77th Street  \\\n",
       "1  201911283 2020-06-23  06/23/2020 12:00:00 AM       315    19      Mission   \n",
       "2  200806654 2020-02-28  02/28/2020 12:00:00 AM      1545     8      West LA   \n",
       "3  220912167 2022-08-03  07/26/2022 12:00:00 AM      1730     9     Van Nuys   \n",
       "4  200817110 2020-12-02  11/27/2020 12:00:00 AM      1500     8      West LA   \n",
       "\n",
       "   Rpt Dist No  Crm Cd                                        Crm Cd Desc   \n",
       "0         1256     210                                            ROBBERY  \\\n",
       "1         1958     740  VANDALISM - FELONY ($400 & OVER, ALL CHURCH VA...   \n",
       "2          885     420    THEFT FROM MOTOR VEHICLE - PETTY ($950 & UNDER)   \n",
       "3          955     901                     VIOLATION OF RESTRAINING ORDER   \n",
       "4          802     662                                 BUNCO, GRAND THEFT   \n",
       "\n",
       "   Vict Age  ...  Status Desc Crm Cd 1  Crm Cd 2 Crm Cd 3  Crm Cd 4   \n",
       "0        65  ...  Invest Cont    210.0       NaN      NaN       NaN  \\\n",
       "1        51  ...  Invest Cont    740.0     998.0      NaN       NaN   \n",
       "2        38  ...  Invest Cont    420.0       NaN      NaN       NaN   \n",
       "3        64  ...  Adult Other    901.0       NaN      NaN       NaN   \n",
       "4        73  ...  Invest Cont    662.0       NaN      NaN       NaN   \n",
       "\n",
       "                                   LOCATION                     Cross Street   \n",
       "0           73RD                         ST  FIGUEROA                     ST  \\\n",
       "1   9700    WOODMAN                      AV                              NaN   \n",
       "2  10400 W  PICO                         BL                              NaN   \n",
       "3  14200    MAGNOLIA                     BL                              NaN   \n",
       "4  15000 W  SUNSET                       BL                              NaN   \n",
       "\n",
       "       LAT       LON  year  \n",
       "0  33.9737 -118.2827  2020  \n",
       "1  34.2467 -118.4479  2020  \n",
       "2  34.0463 -118.4171  2020  \n",
       "3  34.1668 -118.4445  2022  \n",
       "4  34.0889 -118.5325  2020  \n",
       "\n",
       "[5 rows x 26 columns]"
      ]
     },
     "execution_count": 40,
     "metadata": {},
     "output_type": "execute_result"
    }
   ],
   "source": [
    "crimes.head()"
   ]
  },
  {
   "cell_type": "code",
   "execution_count": 38,
   "metadata": {},
   "outputs": [
    {
     "name": "stdout",
     "output_type": "stream",
     "text": [
      "<class 'pandas.core.frame.DataFrame'>\n",
      "RangeIndex: 400146 entries, 0 to 400145\n",
      "Data columns (total 26 columns):\n",
      " #   Column          Non-Null Count   Dtype         \n",
      "---  ------          --------------   -----         \n",
      " 0   DR_NO           400146 non-null  int64         \n",
      " 1   Date Rptd       400146 non-null  datetime64[ns]\n",
      " 2   DATE OCC        400146 non-null  object        \n",
      " 3   TIME OCC        400146 non-null  int64         \n",
      " 4   AREA            400146 non-null  int64         \n",
      " 5   AREA NAME       400146 non-null  object        \n",
      " 6   Rpt Dist No     400146 non-null  int64         \n",
      " 7   Crm Cd          400146 non-null  int64         \n",
      " 8   Crm Cd Desc     400146 non-null  object        \n",
      " 9   Vict Age        400146 non-null  int64         \n",
      " 10  Vict Sex        346271 non-null  object        \n",
      " 11  Vict Descent    346268 non-null  object        \n",
      " 12  Premis Cd       400140 non-null  float64       \n",
      " 13  Premis Desc     399910 non-null  object        \n",
      " 14  Weapon Used Cd  136027 non-null  float64       \n",
      " 15  Weapon Desc     136027 non-null  object        \n",
      " 16  Status Desc     400146 non-null  object        \n",
      " 17  Crm Cd 1        400140 non-null  float64       \n",
      " 18  Crm Cd 2        28121 non-null   float64       \n",
      " 19  Crm Cd 3        798 non-null     float64       \n",
      " 20  Crm Cd 4        0 non-null       float64       \n",
      " 21  LOCATION        400146 non-null  object        \n",
      " 22  Cross Street    64582 non-null   object        \n",
      " 23  LAT             400146 non-null  float64       \n",
      " 24  LON             400146 non-null  float64       \n",
      " 25  year            400146 non-null  int32         \n",
      "dtypes: datetime64[ns](1), float64(8), int32(1), int64(6), object(10)\n",
      "memory usage: 77.8+ MB\n"
     ]
    }
   ],
   "source": [
    "crimes.info()"
   ]
  },
  {
   "cell_type": "code",
   "execution_count": 42,
   "metadata": {},
   "outputs": [
    {
     "data": {
      "text/plain": [
       "DR_NO                  0\n",
       "Date Rptd              0\n",
       "DATE OCC               0\n",
       "TIME OCC               0\n",
       "AREA                   0\n",
       "AREA NAME              0\n",
       "Rpt Dist No            0\n",
       "Crm Cd                 0\n",
       "Crm Cd Desc            0\n",
       "Vict Age               0\n",
       "Vict Sex           53875\n",
       "Vict Descent       53878\n",
       "Premis Cd              6\n",
       "Premis Desc          236\n",
       "Weapon Used Cd    264119\n",
       "Weapon Desc       264119\n",
       "Status Desc            0\n",
       "Crm Cd 1               6\n",
       "Crm Cd 2          372025\n",
       "Crm Cd 3          399348\n",
       "Crm Cd 4          400146\n",
       "LOCATION               0\n",
       "Cross Street      335564\n",
       "LAT                    0\n",
       "LON                    0\n",
       "year                   0\n",
       "dtype: int64"
      ]
     },
     "execution_count": 42,
     "metadata": {},
     "output_type": "execute_result"
    }
   ],
   "source": [
    "crimes.isnull().sum()"
   ]
  },
  {
   "cell_type": "code",
   "execution_count": 43,
   "metadata": {},
   "outputs": [],
   "source": [
    "crimes.fillna(method='ffill', inplace=True)"
   ]
  },
  {
   "cell_type": "code",
   "execution_count": 44,
   "metadata": {},
   "outputs": [
    {
     "data": {
      "text/plain": [
       "DR_NO                  0\n",
       "Date Rptd              0\n",
       "DATE OCC               0\n",
       "TIME OCC               0\n",
       "AREA                   0\n",
       "AREA NAME              0\n",
       "Rpt Dist No            0\n",
       "Crm Cd                 0\n",
       "Crm Cd Desc            0\n",
       "Vict Age               0\n",
       "Vict Sex               0\n",
       "Vict Descent           0\n",
       "Premis Cd              0\n",
       "Premis Desc            0\n",
       "Weapon Used Cd         0\n",
       "Weapon Desc            0\n",
       "Status Desc            0\n",
       "Crm Cd 1               0\n",
       "Crm Cd 2               1\n",
       "Crm Cd 3             465\n",
       "Crm Cd 4          400146\n",
       "LOCATION               0\n",
       "Cross Street           0\n",
       "LAT                    0\n",
       "LON                    0\n",
       "year                   0\n",
       "dtype: int64"
      ]
     },
     "execution_count": 44,
     "metadata": {},
     "output_type": "execute_result"
    }
   ],
   "source": [
    "crimes.isnull().sum()"
   ]
  },
  {
   "cell_type": "markdown",
   "metadata": {},
   "source": [
    "# Listing Crime types\n",
    "\n",
    "We are braking down all the crimes that occur in the 4 year of period."
   ]
  },
  {
   "cell_type": "code",
   "execution_count": 45,
   "metadata": {},
   "outputs": [
    {
     "data": {
      "text/plain": [
       "Crm Cd Desc\n",
       "VEHICLE - STOLEN                                           44159\n",
       "BATTERY - SIMPLE ASSAULT                                   32817\n",
       "THEFT OF IDENTITY                                          26777\n",
       "BURGLARY FROM VEHICLE                                      25725\n",
       "VANDALISM - FELONY ($400 & OVER, ALL CHURCH VANDALISMS)    25353\n",
       "                                                           ...  \n",
       "DISHONEST EMPLOYEE ATTEMPTED THEFT                             2\n",
       "PICKPOCKET, ATTEMPT                                            2\n",
       "INCITING A RIOT                                                1\n",
       "GRAND THEFT / AUTO REPAIR                                      1\n",
       "BIKE - ATTEMPTED STOLEN                                        1\n",
       "Name: count, Length: 112, dtype: int64"
      ]
     },
     "execution_count": 45,
     "metadata": {},
     "output_type": "execute_result"
    }
   ],
   "source": [
    "crimeBytype = crimes[\"Crm Cd Desc\"].value_counts()\n",
    "crimeBytype\n"
   ]
  },
  {
   "cell_type": "markdown",
   "metadata": {},
   "source": [
    "We take note that vehicle-stolen, Battery and theft of identity is the most common crimes in LA.\n"
   ]
  },
  {
   "cell_type": "markdown",
   "metadata": {},
   "source": [
    "Now, we want to graph the total number of crimes by the year"
   ]
  },
  {
   "cell_type": "code",
   "execution_count": 49,
   "metadata": {},
   "outputs": [
    {
     "data": {
      "image/png": "[encoded data removed]",
      "text/plain": [
       "<Figure size 1200x600 with 1 Axes>"
      ]
     },
     "metadata": {},
     "output_type": "display_data"
    }
   ],
   "source": [
    "crimes['Date Rptd'] = pd.to_datetime(crimes['Date Rptd'])\n",
    "\n",
    "crimes['year'] = crimes['Date Rptd'].dt.year\n",
    "crimeByYear = crimes.groupby('year').size()\n",
    "\n",
    "plt.figure(figsize=(12, 6))\n",
    "sns.lineplot(data=crimeByYear)\n",
    "plt.xlabel('Year')\n",
    "plt.ylabel('Number of Crimes')\n",
    "plt.title('Number of Crimes by Year')\n",
    "plt.show()"
   ]
  },
  {
   "cell_type": "markdown",
   "metadata": {},
   "source": [
    "From the output 2022 was considered the worse year for crime."
   ]
  },
  {
   "cell_type": "code",
   "execution_count": null,
   "metadata": {},
   "outputs": [],
   "source": []
  }
 ],
 "metadata": {
  "kernelspec": {
   "display_name": "Python 3",
   "language": "python",
   "name": "python3"
  },
  "language_info": {
   "codemirror_mode": {
    "name": "ipython",
    "version": 3
   },
   "file_extension": ".py",
   "mimetype": "text/x-python",
   "name": "python",
   "nbconvert_exporter": "python",
   "pygments_lexer": "ipython3",
   "version": "3.11.5"
  },
  "orig_nbformat": 4
 },
 "nbformat": 4,
 "nbformat_minor": 2
}
